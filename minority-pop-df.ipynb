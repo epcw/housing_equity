{
 "cells": [
  {
   "cell_type": "code",
   "execution_count": 17,
   "metadata": {
    "scrolled": true
   },
   "outputs": [
    {
     "data": {
      "text/html": [
       "<div>\n",
       "<style scoped>\n",
       "    .dataframe tbody tr th:only-of-type {\n",
       "        vertical-align: middle;\n",
       "    }\n",
       "\n",
       "    .dataframe tbody tr th {\n",
       "        vertical-align: top;\n",
       "    }\n",
       "\n",
       "    .dataframe thead th {\n",
       "        text-align: right;\n",
       "    }\n",
       "</style>\n",
       "<table border=\"1\" class=\"dataframe\">\n",
       "  <thead>\n",
       "    <tr style=\"text-align: right;\">\n",
       "      <th></th>\n",
       "      <th>COUNTY</th>\n",
       "      <th>TRACT_NUM</th>\n",
       "      <th>DATA</th>\n",
       "      <th>CENSUS_QUERY</th>\n",
       "      <th>HUMAN_READABLE</th>\n",
       "      <th>DATASET</th>\n",
       "      <th>YEAR</th>\n",
       "      <th>GEOID</th>\n",
       "    </tr>\n",
       "  </thead>\n",
       "  <tbody>\n",
       "    <tr>\n",
       "      <th>52326</th>\n",
       "      <td>King</td>\n",
       "      <td>000100</td>\n",
       "      <td>3852.0</td>\n",
       "      <td>B02001_002E</td>\n",
       "      <td>Estimate!!Total!!White alone-RACE</td>\n",
       "      <td>acs5</td>\n",
       "      <td>2010</td>\n",
       "      <td>53033000100</td>\n",
       "    </tr>\n",
       "    <tr>\n",
       "      <th>52335</th>\n",
       "      <td>King</td>\n",
       "      <td>000100</td>\n",
       "      <td>436.0</td>\n",
       "      <td>B02001_003E</td>\n",
       "      <td>Estimate!!Total!!Black or African American alo...</td>\n",
       "      <td>acs5</td>\n",
       "      <td>2010</td>\n",
       "      <td>53033000100</td>\n",
       "    </tr>\n",
       "    <tr>\n",
       "      <th>52344</th>\n",
       "      <td>King</td>\n",
       "      <td>000100</td>\n",
       "      <td>83.0</td>\n",
       "      <td>B02001_004E</td>\n",
       "      <td>Estimate!!Total!!American Indian and Alaska Na...</td>\n",
       "      <td>acs5</td>\n",
       "      <td>2010</td>\n",
       "      <td>53033000100</td>\n",
       "    </tr>\n",
       "  </tbody>\n",
       "</table>\n",
       "</div>"
      ],
      "text/plain": [
       "      COUNTY TRACT_NUM    DATA CENSUS_QUERY  \\\n",
       "52326   King    000100  3852.0  B02001_002E   \n",
       "52335   King    000100   436.0  B02001_003E   \n",
       "52344   King    000100    83.0  B02001_004E   \n",
       "\n",
       "                                          HUMAN_READABLE DATASET  YEAR  \\\n",
       "52326                  Estimate!!Total!!White alone-RACE    acs5  2010   \n",
       "52335  Estimate!!Total!!Black or African American alo...    acs5  2010   \n",
       "52344  Estimate!!Total!!American Indian and Alaska Na...    acs5  2010   \n",
       "\n",
       "             GEOID  \n",
       "52326  53033000100  \n",
       "52335  53033000100  \n",
       "52344  53033000100  "
      ]
     },
     "execution_count": 17,
     "metadata": {},
     "output_type": "execute_result"
    }
   ],
   "source": [
    "import pandas as pd\n",
    "import json\n",
    "import geopandas as gp\n",
    "from geopy import distance\n",
    "\n",
    "\n",
    "df= pd.read_csv('sandbox-singlepage/data/housing_prepped.csv', dtype={\"GEOID\": str,\"TRACT_NUM\": str})\n",
    "\n",
    "#filter for King County\n",
    "df = df[(df['COUNTY'] == 'King')]\n",
    "\n",
    "rdf = pd.read_csv('sandbox-singlepage/data/race-data.csv', dtype={\"TRACT_NUM\": str, \"YEAR\": str})\n",
    "\n",
    "#filter for King County 2010\n",
    "rdf = rdf[(rdf['COUNTY'] == 'King') & (rdf['YEAR'] == '2010')]\n",
    "\n",
    "#create GEOID\n",
    "rdf['GEOID'] = '53033' + rdf['TRACT_NUM']\n",
    "\n",
    "gdf = pd.read_csv('sandbox-singlepage/data/washingtongeo_dist.csv',\n",
    "                   dtype={\"TRACTCE_a\": str,\"TRACTCE_b\": str})\n",
    "\n",
    "rdf.head(3)"
   ]
  },
  {
   "cell_type": "code",
   "execution_count": 18,
   "metadata": {},
   "outputs": [
    {
     "data": {
      "text/plain": [
       "(7164, 8)"
      ]
     },
     "execution_count": 18,
     "metadata": {},
     "output_type": "execute_result"
    }
   ],
   "source": [
    "rdf.shape"
   ]
  },
  {
   "cell_type": "code",
   "execution_count": 20,
   "metadata": {},
   "outputs": [
    {
     "data": {
      "text/plain": [
       "(78606, 4)"
      ]
     },
     "execution_count": 20,
     "metadata": {},
     "output_type": "execute_result"
    }
   ],
   "source": [
    "gdf.shape#, gpydf.drop_duplicates().shape"
   ]
  },
  {
   "cell_type": "code",
   "execution_count": 21,
   "metadata": {},
   "outputs": [],
   "source": [
    "white = rdf[(rdf['CENSUS_QUERY'] == 'B03002_003E')]\n",
    "white = white[['GEOID','COUNTY','TRACT_NUM','DATA']]\n",
    "white = white.rename(columns = {'DATA' : 'pop_white_nonhisp_only'})\n",
    "black = rdf[(rdf['CENSUS_QUERY'] == 'B02001_003E')]\n",
    "black = black[['GEOID','COUNTY','TRACT_NUM','DATA']]\n",
    "black = black.rename(columns = {'DATA' : 'pop_black_only'})\n",
    "native = rdf[(rdf['CENSUS_QUERY'] == 'B02001_004E')]\n",
    "native = native[['GEOID','COUNTY','TRACT_NUM','DATA']]\n",
    "native = native.rename(columns = {'DATA' : 'pop_native_only'})\n",
    "asian = rdf[(rdf['CENSUS_QUERY'] == 'B02001_005E')]\n",
    "asian = asian[['GEOID','COUNTY','TRACT_NUM','DATA']]\n",
    "asian = asian.rename(columns = {'DATA' : 'pop_asian_only'})\n",
    "polynesian = rdf[(rdf['CENSUS_QUERY'] == 'B02001_006E')]\n",
    "polynesian = polynesian[['GEOID','COUNTY','TRACT_NUM','DATA']]\n",
    "polynesian = polynesian.rename(columns = {'DATA' : 'pop_polynesian_only'})\n",
    "latino = rdf[(rdf['CENSUS_QUERY'] == 'B03002_012E')]\n",
    "latino = latino[['GEOID','COUNTY','TRACT_NUM','DATA']]\n",
    "latino = latino.rename(columns = {'DATA' : 'pop_hispanic'})\n",
    "other = rdf[(rdf['CENSUS_QUERY'] == 'B02001_007E')]\n",
    "other = other[['GEOID','COUNTY','TRACT_NUM','DATA']]\n",
    "other = other.rename(columns = {'DATA' : 'pop_other_only'})\n",
    "multiracial = rdf[(rdf['CENSUS_QUERY'] == 'B02001_008E')]\n",
    "multiracial = multiracial[['GEOID','COUNTY','TRACT_NUM','DATA']]\n",
    "multiracial = multiracial.rename(columns = {'DATA' : 'pop_multiracial'})\n",
    "racial = white.merge(black, how = 'inner', left_on = ['GEOID','COUNTY','TRACT_NUM'], right_on = ['GEOID','COUNTY','TRACT_NUM'])\n",
    "racial = racial.merge(native, how = 'inner', left_on = ['GEOID','COUNTY','TRACT_NUM'], right_on = ['GEOID','COUNTY','TRACT_NUM'])\n",
    "racial = racial.merge(asian, how = 'inner', left_on = ['GEOID','COUNTY','TRACT_NUM'], right_on = ['GEOID','COUNTY','TRACT_NUM'])\n",
    "racial = racial.merge(polynesian, how = 'inner', left_on = ['GEOID','COUNTY','TRACT_NUM'], right_on = ['GEOID','COUNTY','TRACT_NUM'])\n",
    "racial = racial.merge(latino, how = 'inner', left_on = ['GEOID','COUNTY','TRACT_NUM'], right_on = ['GEOID','COUNTY','TRACT_NUM'])\n",
    "racial = racial.merge(other, how = 'inner', left_on = ['GEOID','COUNTY','TRACT_NUM'], right_on = ['GEOID','COUNTY','TRACT_NUM'])\n",
    "racial = racial.merge(multiracial, how = 'inner', left_on = ['GEOID','COUNTY','TRACT_NUM'], right_on = ['GEOID','COUNTY','TRACT_NUM'])\n",
    "race_data = racial[['GEOID','COUNTY','TRACT_NUM','pop_white_nonhisp_only','pop_black_only','pop_native_only','pop_asian_only','pop_polynesian_only','pop_hispanic','pop_other_only','pop_multiracial']]\n",
    "race_data.head(2)\n",
    "df = df.merge(race_data, how = 'inner', left_on = ['GEOID','COUNTY','TRACT_NUM'], right_on = ['GEOID','COUNTY','TRACT_NUM'])\n",
    "df['minority_pop'] = df['TOT_POP_2010'] - df['pop_white_nonhisp_only']\n",
    "df['minority_pop_pct'] = df['pop_white_nonhisp_only'] / df['TOT_POP_2010']"
   ]
  },
  {
   "cell_type": "code",
   "execution_count": 22,
   "metadata": {},
   "outputs": [
    {
     "data": {
      "text/plain": [
       "((398, 33), (398, 33))"
      ]
     },
     "execution_count": 22,
     "metadata": {},
     "output_type": "execute_result"
    }
   ],
   "source": [
    "df.shape, df.drop_duplicates().shape"
   ]
  },
  {
   "cell_type": "code",
   "execution_count": 23,
   "metadata": {},
   "outputs": [
    {
     "data": {
      "text/plain": [
       "(398, 1)"
      ]
     },
     "execution_count": 23,
     "metadata": {},
     "output_type": "execute_result"
    }
   ],
   "source": [
    "df[['TRACT_NUM']].drop_duplicates().shape"
   ]
  },
  {
   "cell_type": "code",
   "execution_count": 24,
   "metadata": {},
   "outputs": [
    {
     "data": {
      "text/plain": [
       "'index__muni'"
      ]
     },
     "execution_count": 24,
     "metadata": {},
     "output_type": "execute_result"
    }
   ],
   "source": [
    "pd.set_option('display.max_columns', 500)\n",
    "df[df['TRACT_NUM'] == '000401']\n",
    "'index__muni'"
   ]
  },
  {
   "cell_type": "code",
   "execution_count": 25,
   "metadata": {},
   "outputs": [
    {
     "data": {
      "text/html": [
       "<div>\n",
       "<style scoped>\n",
       "    .dataframe tbody tr th:only-of-type {\n",
       "        vertical-align: middle;\n",
       "    }\n",
       "\n",
       "    .dataframe tbody tr th {\n",
       "        vertical-align: top;\n",
       "    }\n",
       "\n",
       "    .dataframe thead th {\n",
       "        text-align: right;\n",
       "    }\n",
       "</style>\n",
       "<table border=\"1\" class=\"dataframe\">\n",
       "  <thead>\n",
       "    <tr style=\"text-align: right;\">\n",
       "      <th></th>\n",
       "      <th>Unnamed: 0</th>\n",
       "      <th>TRACTCE_a</th>\n",
       "      <th>TRACTCE_b</th>\n",
       "      <th>distance</th>\n",
       "      <th>TRACT_NUM</th>\n",
       "      <th>GEOID_a</th>\n",
       "    </tr>\n",
       "  </thead>\n",
       "  <tbody>\n",
       "    <tr>\n",
       "      <th>0</th>\n",
       "      <td>1</td>\n",
       "      <td>031705</td>\n",
       "      <td>032212</td>\n",
       "      <td>22236.625478</td>\n",
       "      <td>031705</td>\n",
       "      <td>53033031705</td>\n",
       "    </tr>\n",
       "    <tr>\n",
       "      <th>1</th>\n",
       "      <td>2</td>\n",
       "      <td>031705</td>\n",
       "      <td>032322</td>\n",
       "      <td>38423.760229</td>\n",
       "      <td>031705</td>\n",
       "      <td>53033031705</td>\n",
       "    </tr>\n",
       "    <tr>\n",
       "      <th>2</th>\n",
       "      <td>44</td>\n",
       "      <td>031705</td>\n",
       "      <td>032213</td>\n",
       "      <td>24613.040010</td>\n",
       "      <td>031705</td>\n",
       "      <td>53033031705</td>\n",
       "    </tr>\n",
       "  </tbody>\n",
       "</table>\n",
       "</div>"
      ],
      "text/plain": [
       "   Unnamed: 0 TRACTCE_a TRACTCE_b      distance TRACT_NUM      GEOID_a\n",
       "0           1    031705    032212  22236.625478    031705  53033031705\n",
       "1           2    031705    032322  38423.760229    031705  53033031705\n",
       "2          44    031705    032213  24613.040010    031705  53033031705"
      ]
     },
     "execution_count": 25,
     "metadata": {},
     "output_type": "execute_result"
    }
   ],
   "source": [
    "gdf = gdf.merge(df[['TRACT_NUM','GEOID']], how='left', left_on='TRACTCE_a', right_on='TRACT_NUM')\n",
    "gdf = gdf.rename(columns={'GEOID':'GEOID_a'})\n",
    "gdf.head(3)"
   ]
  },
  {
   "cell_type": "code",
   "execution_count": 26,
   "metadata": {},
   "outputs": [
    {
     "data": {
      "text/plain": [
       "(78606, 6)"
      ]
     },
     "execution_count": 26,
     "metadata": {},
     "output_type": "execute_result"
    }
   ],
   "source": [
    "gdf.shape\n",
    "gdf.drop_duplicates().shape"
   ]
  },
  {
   "cell_type": "code",
   "execution_count": 27,
   "metadata": {},
   "outputs": [
    {
     "data": {
      "text/html": [
       "<div>\n",
       "<style scoped>\n",
       "    .dataframe tbody tr th:only-of-type {\n",
       "        vertical-align: middle;\n",
       "    }\n",
       "\n",
       "    .dataframe tbody tr th {\n",
       "        vertical-align: top;\n",
       "    }\n",
       "\n",
       "    .dataframe thead th {\n",
       "        text-align: right;\n",
       "    }\n",
       "</style>\n",
       "<table border=\"1\" class=\"dataframe\">\n",
       "  <thead>\n",
       "    <tr style=\"text-align: right;\">\n",
       "      <th></th>\n",
       "      <th>Unnamed: 0</th>\n",
       "      <th>TRACTCE_a</th>\n",
       "      <th>TRACTCE_b</th>\n",
       "      <th>distance</th>\n",
       "      <th>TRACT_NUM_x</th>\n",
       "      <th>GEOID_a</th>\n",
       "      <th>TRACT_NUM_y</th>\n",
       "      <th>GEOID_b</th>\n",
       "    </tr>\n",
       "  </thead>\n",
       "  <tbody>\n",
       "    <tr>\n",
       "      <th>0</th>\n",
       "      <td>1</td>\n",
       "      <td>031705</td>\n",
       "      <td>032212</td>\n",
       "      <td>22236.625478</td>\n",
       "      <td>031705</td>\n",
       "      <td>53033031705</td>\n",
       "      <td>032212</td>\n",
       "      <td>53033032212</td>\n",
       "    </tr>\n",
       "    <tr>\n",
       "      <th>1</th>\n",
       "      <td>2</td>\n",
       "      <td>031705</td>\n",
       "      <td>032322</td>\n",
       "      <td>38423.760229</td>\n",
       "      <td>031705</td>\n",
       "      <td>53033031705</td>\n",
       "      <td>032322</td>\n",
       "      <td>53033032322</td>\n",
       "    </tr>\n",
       "    <tr>\n",
       "      <th>2</th>\n",
       "      <td>44</td>\n",
       "      <td>031705</td>\n",
       "      <td>032213</td>\n",
       "      <td>24613.040010</td>\n",
       "      <td>031705</td>\n",
       "      <td>53033031705</td>\n",
       "      <td>032213</td>\n",
       "      <td>53033032213</td>\n",
       "    </tr>\n",
       "  </tbody>\n",
       "</table>\n",
       "</div>"
      ],
      "text/plain": [
       "   Unnamed: 0 TRACTCE_a TRACTCE_b      distance TRACT_NUM_x      GEOID_a  \\\n",
       "0           1    031705    032212  22236.625478      031705  53033031705   \n",
       "1           2    031705    032322  38423.760229      031705  53033031705   \n",
       "2          44    031705    032213  24613.040010      031705  53033031705   \n",
       "\n",
       "  TRACT_NUM_y      GEOID_b  \n",
       "0      032212  53033032212  \n",
       "1      032322  53033032322  \n",
       "2      032213  53033032213  "
      ]
     },
     "execution_count": 27,
     "metadata": {},
     "output_type": "execute_result"
    }
   ],
   "source": [
    "gdf = gdf.merge(df[['TRACT_NUM','GEOID']], how='left', left_on='TRACTCE_b', right_on='TRACT_NUM')\n",
    "gdf = gdf.rename(columns={'GEOID':'GEOID_b'})\n",
    "gdf.head(3)"
   ]
  },
  {
   "cell_type": "code",
   "execution_count": 28,
   "metadata": {},
   "outputs": [
    {
     "data": {
      "text/plain": [
       "(78606, 8)"
      ]
     },
     "execution_count": 28,
     "metadata": {},
     "output_type": "execute_result"
    }
   ],
   "source": [
    "gdf.shape"
   ]
  },
  {
   "cell_type": "code",
   "execution_count": 29,
   "metadata": {
    "scrolled": true
   },
   "outputs": [
    {
     "data": {
      "text/html": [
       "<div>\n",
       "<style scoped>\n",
       "    .dataframe tbody tr th:only-of-type {\n",
       "        vertical-align: middle;\n",
       "    }\n",
       "\n",
       "    .dataframe tbody tr th {\n",
       "        vertical-align: top;\n",
       "    }\n",
       "\n",
       "    .dataframe thead th {\n",
       "        text-align: right;\n",
       "    }\n",
       "</style>\n",
       "<table border=\"1\" class=\"dataframe\">\n",
       "  <thead>\n",
       "    <tr style=\"text-align: right;\">\n",
       "      <th></th>\n",
       "      <th>Unnamed: 0</th>\n",
       "      <th>TRACTCE_a</th>\n",
       "      <th>TRACTCE_b</th>\n",
       "      <th>distance</th>\n",
       "      <th>TRACT_NUM_x</th>\n",
       "      <th>GEOID_a</th>\n",
       "      <th>TRACT_NUM_y</th>\n",
       "      <th>GEOID_b</th>\n",
       "      <th>GEOID</th>\n",
       "      <th>minority_pop_pct_2010_a</th>\n",
       "    </tr>\n",
       "  </thead>\n",
       "  <tbody>\n",
       "    <tr>\n",
       "      <th>0</th>\n",
       "      <td>1</td>\n",
       "      <td>031705</td>\n",
       "      <td>032212</td>\n",
       "      <td>22236.625478</td>\n",
       "      <td>031705</td>\n",
       "      <td>53033031705</td>\n",
       "      <td>032212</td>\n",
       "      <td>53033032212</td>\n",
       "      <td>53033031705</td>\n",
       "      <td>0.850154</td>\n",
       "    </tr>\n",
       "    <tr>\n",
       "      <th>1</th>\n",
       "      <td>2</td>\n",
       "      <td>031705</td>\n",
       "      <td>032322</td>\n",
       "      <td>38423.760229</td>\n",
       "      <td>031705</td>\n",
       "      <td>53033031705</td>\n",
       "      <td>032322</td>\n",
       "      <td>53033032322</td>\n",
       "      <td>53033031705</td>\n",
       "      <td>0.850154</td>\n",
       "    </tr>\n",
       "    <tr>\n",
       "      <th>2</th>\n",
       "      <td>44</td>\n",
       "      <td>031705</td>\n",
       "      <td>032213</td>\n",
       "      <td>24613.040010</td>\n",
       "      <td>031705</td>\n",
       "      <td>53033031705</td>\n",
       "      <td>032213</td>\n",
       "      <td>53033032213</td>\n",
       "      <td>53033031705</td>\n",
       "      <td>0.850154</td>\n",
       "    </tr>\n",
       "  </tbody>\n",
       "</table>\n",
       "</div>"
      ],
      "text/plain": [
       "   Unnamed: 0 TRACTCE_a TRACTCE_b      distance TRACT_NUM_x      GEOID_a  \\\n",
       "0           1    031705    032212  22236.625478      031705  53033031705   \n",
       "1           2    031705    032322  38423.760229      031705  53033031705   \n",
       "2          44    031705    032213  24613.040010      031705  53033031705   \n",
       "\n",
       "  TRACT_NUM_y      GEOID_b        GEOID  minority_pop_pct_2010_a  \n",
       "0      032212  53033032212  53033031705                 0.850154  \n",
       "1      032322  53033032322  53033031705                 0.850154  \n",
       "2      032213  53033032213  53033031705                 0.850154  "
      ]
     },
     "execution_count": 29,
     "metadata": {},
     "output_type": "execute_result"
    }
   ],
   "source": [
    "#merge dataframes to combine the different datasets so that you can calculate it.\n",
    "minority10 = df[['GEOID','minority_pop_pct']]\n",
    "gdf = gdf.merge(minority10, how = 'inner', left_on = ['GEOID_a'], right_on = ['GEOID'])\n",
    "gdf = gdf.rename(columns = {'minority_pop_pct':'minority_pop_pct_2010_a'})\n",
    "gdf.head(3)"
   ]
  },
  {
   "cell_type": "code",
   "execution_count": 30,
   "metadata": {},
   "outputs": [
    {
     "data": {
      "text/html": [
       "<div>\n",
       "<style scoped>\n",
       "    .dataframe tbody tr th:only-of-type {\n",
       "        vertical-align: middle;\n",
       "    }\n",
       "\n",
       "    .dataframe tbody tr th {\n",
       "        vertical-align: top;\n",
       "    }\n",
       "\n",
       "    .dataframe thead th {\n",
       "        text-align: right;\n",
       "    }\n",
       "</style>\n",
       "<table border=\"1\" class=\"dataframe\">\n",
       "  <thead>\n",
       "    <tr style=\"text-align: right;\">\n",
       "      <th></th>\n",
       "      <th>Unnamed: 0</th>\n",
       "      <th>TRACTCE_a</th>\n",
       "      <th>TRACTCE_b</th>\n",
       "      <th>distance</th>\n",
       "      <th>TRACT_NUM_x</th>\n",
       "      <th>GEOID_a</th>\n",
       "      <th>TRACT_NUM_y</th>\n",
       "      <th>GEOID_b</th>\n",
       "      <th>GEOID_x</th>\n",
       "      <th>minority_pop_pct_2010_a</th>\n",
       "      <th>GEOID_y</th>\n",
       "      <th>minority_pop_pct_2010_b</th>\n",
       "    </tr>\n",
       "  </thead>\n",
       "  <tbody>\n",
       "    <tr>\n",
       "      <th>0</th>\n",
       "      <td>1</td>\n",
       "      <td>031705</td>\n",
       "      <td>032212</td>\n",
       "      <td>22236.625478</td>\n",
       "      <td>031705</td>\n",
       "      <td>53033031705</td>\n",
       "      <td>032212</td>\n",
       "      <td>53033032212</td>\n",
       "      <td>53033031705</td>\n",
       "      <td>0.850154</td>\n",
       "      <td>53033032212</td>\n",
       "      <td>0.631176</td>\n",
       "    </tr>\n",
       "    <tr>\n",
       "      <th>1</th>\n",
       "      <td>1192</td>\n",
       "      <td>000200</td>\n",
       "      <td>032212</td>\n",
       "      <td>28735.234239</td>\n",
       "      <td>000200</td>\n",
       "      <td>53033000200</td>\n",
       "      <td>032212</td>\n",
       "      <td>53033032212</td>\n",
       "      <td>53033000200</td>\n",
       "      <td>0.700729</td>\n",
       "      <td>53033032212</td>\n",
       "      <td>0.631176</td>\n",
       "    </tr>\n",
       "    <tr>\n",
       "      <th>2</th>\n",
       "      <td>1589</td>\n",
       "      <td>000900</td>\n",
       "      <td>032212</td>\n",
       "      <td>25152.434293</td>\n",
       "      <td>000900</td>\n",
       "      <td>53033000900</td>\n",
       "      <td>032212</td>\n",
       "      <td>53033032212</td>\n",
       "      <td>53033000900</td>\n",
       "      <td>0.812346</td>\n",
       "      <td>53033032212</td>\n",
       "      <td>0.631176</td>\n",
       "    </tr>\n",
       "  </tbody>\n",
       "</table>\n",
       "</div>"
      ],
      "text/plain": [
       "   Unnamed: 0 TRACTCE_a TRACTCE_b      distance TRACT_NUM_x      GEOID_a  \\\n",
       "0           1    031705    032212  22236.625478      031705  53033031705   \n",
       "1        1192    000200    032212  28735.234239      000200  53033000200   \n",
       "2        1589    000900    032212  25152.434293      000900  53033000900   \n",
       "\n",
       "  TRACT_NUM_y      GEOID_b      GEOID_x  minority_pop_pct_2010_a      GEOID_y  \\\n",
       "0      032212  53033032212  53033031705                 0.850154  53033032212   \n",
       "1      032212  53033032212  53033000200                 0.700729  53033032212   \n",
       "2      032212  53033032212  53033000900                 0.812346  53033032212   \n",
       "\n",
       "   minority_pop_pct_2010_b  \n",
       "0                 0.631176  \n",
       "1                 0.631176  \n",
       "2                 0.631176  "
      ]
     },
     "execution_count": 30,
     "metadata": {},
     "output_type": "execute_result"
    }
   ],
   "source": [
    "gdf = gdf.merge(minority10, how = 'inner', left_on = ['GEOID_b'], right_on = ['GEOID'])\n",
    "gdf = gdf.rename(columns = {'minority_pop_pct':'minority_pop_pct_2010_b'})\n",
    "gdf.head(3)"
   ]
  },
  {
   "cell_type": "code",
   "execution_count": 31,
   "metadata": {
    "scrolled": true
   },
   "outputs": [
    {
     "data": {
      "text/html": [
       "<div>\n",
       "<style scoped>\n",
       "    .dataframe tbody tr th:only-of-type {\n",
       "        vertical-align: middle;\n",
       "    }\n",
       "\n",
       "    .dataframe tbody tr th {\n",
       "        vertical-align: top;\n",
       "    }\n",
       "\n",
       "    .dataframe thead th {\n",
       "        text-align: right;\n",
       "    }\n",
       "</style>\n",
       "<table border=\"1\" class=\"dataframe\">\n",
       "  <thead>\n",
       "    <tr style=\"text-align: right;\">\n",
       "      <th></th>\n",
       "      <th>COUNTY</th>\n",
       "      <th>TRACT_NUM</th>\n",
       "      <th>TOT_POP_2010</th>\n",
       "      <th>DATASET</th>\n",
       "      <th>GEOID</th>\n",
       "      <th>TOT_POP_2018</th>\n",
       "      <th>BORN_OTHER_US_STATE_2010</th>\n",
       "      <th>BORN_OTHER_US_STATE_2018</th>\n",
       "      <th>BORN_FOREIGN_75KPLUS_2010</th>\n",
       "      <th>BORN_FOREIGN_75KPLUS_2018</th>\n",
       "      <th>TWENTY_PCTILE_2010</th>\n",
       "      <th>TWENTY_PCTILE_2018</th>\n",
       "      <th>EIGHTY_PCTILE_2010</th>\n",
       "      <th>EIGHTY_PCTILE_2018</th>\n",
       "      <th>BORN_OTHER_US_STATE_PCT_2010</th>\n",
       "      <th>BORN_OTHER_US_STATE_PCT_2018</th>\n",
       "      <th>BORN_OTHER_US_STATE_PCT_CHANGE</th>\n",
       "      <th>BORN_FOREIGN_75KPLUS_PCT_2010</th>\n",
       "      <th>BORN_FOREIGN_75KPLUS_PCT_2018</th>\n",
       "      <th>BORN_FOREIGN_75KPLUS_PCT_CHANGE</th>\n",
       "      <th>INCOME_GAP_2010</th>\n",
       "      <th>INCOME_GAP_2018</th>\n",
       "      <th>INCOME_GAP_CHANGE</th>\n",
       "      <th>pop_white_nonhisp_only</th>\n",
       "      <th>pop_black_only</th>\n",
       "      <th>pop_native_only</th>\n",
       "      <th>pop_asian_only</th>\n",
       "      <th>pop_polynesian_only</th>\n",
       "      <th>pop_hispanic</th>\n",
       "      <th>pop_other_only</th>\n",
       "      <th>pop_multiracial</th>\n",
       "      <th>minority_pop</th>\n",
       "      <th>minority_pop_pct</th>\n",
       "    </tr>\n",
       "  </thead>\n",
       "  <tbody>\n",
       "    <tr>\n",
       "      <th>0</th>\n",
       "      <td>King</td>\n",
       "      <td>000100</td>\n",
       "      <td>5784.0</td>\n",
       "      <td>acs5</td>\n",
       "      <td>53033000100</td>\n",
       "      <td>7985.0</td>\n",
       "      <td>362.0</td>\n",
       "      <td>453.0</td>\n",
       "      <td>211.0</td>\n",
       "      <td>238.0</td>\n",
       "      <td>17207.0</td>\n",
       "      <td>18832.0</td>\n",
       "      <td>99318.0</td>\n",
       "      <td>106103.0</td>\n",
       "      <td>6.258645</td>\n",
       "      <td>5.673137</td>\n",
       "      <td>-0.585507</td>\n",
       "      <td>3.647994</td>\n",
       "      <td>2.980589</td>\n",
       "      <td>-0.667406</td>\n",
       "      <td>17.325158</td>\n",
       "      <td>17.748791</td>\n",
       "      <td>0.423634</td>\n",
       "      <td>3330.0</td>\n",
       "      <td>436.0</td>\n",
       "      <td>83.0</td>\n",
       "      <td>710.0</td>\n",
       "      <td>11.0</td>\n",
       "      <td>988.0</td>\n",
       "      <td>412.0</td>\n",
       "      <td>280.0</td>\n",
       "      <td>2454.0</td>\n",
       "      <td>0.575726</td>\n",
       "    </tr>\n",
       "    <tr>\n",
       "      <th>1</th>\n",
       "      <td>King</td>\n",
       "      <td>000200</td>\n",
       "      <td>7682.0</td>\n",
       "      <td>acs5</td>\n",
       "      <td>53033000200</td>\n",
       "      <td>8498.0</td>\n",
       "      <td>315.0</td>\n",
       "      <td>664.0</td>\n",
       "      <td>71.0</td>\n",
       "      <td>317.0</td>\n",
       "      <td>20684.0</td>\n",
       "      <td>37303.0</td>\n",
       "      <td>100531.0</td>\n",
       "      <td>125836.0</td>\n",
       "      <td>4.100495</td>\n",
       "      <td>7.813603</td>\n",
       "      <td>3.713109</td>\n",
       "      <td>0.924238</td>\n",
       "      <td>3.730289</td>\n",
       "      <td>2.806051</td>\n",
       "      <td>20.574748</td>\n",
       "      <td>29.644140</td>\n",
       "      <td>9.069392</td>\n",
       "      <td>5383.0</td>\n",
       "      <td>181.0</td>\n",
       "      <td>32.0</td>\n",
       "      <td>1017.0</td>\n",
       "      <td>139.0</td>\n",
       "      <td>594.0</td>\n",
       "      <td>138.0</td>\n",
       "      <td>246.0</td>\n",
       "      <td>2299.0</td>\n",
       "      <td>0.700729</td>\n",
       "    </tr>\n",
       "    <tr>\n",
       "      <th>2</th>\n",
       "      <td>King</td>\n",
       "      <td>000300</td>\n",
       "      <td>2548.0</td>\n",
       "      <td>acs5</td>\n",
       "      <td>53033000300</td>\n",
       "      <td>2991.0</td>\n",
       "      <td>100.0</td>\n",
       "      <td>177.0</td>\n",
       "      <td>20.0</td>\n",
       "      <td>60.0</td>\n",
       "      <td>29271.0</td>\n",
       "      <td>41357.0</td>\n",
       "      <td>117517.0</td>\n",
       "      <td>152111.0</td>\n",
       "      <td>3.924647</td>\n",
       "      <td>5.917753</td>\n",
       "      <td>1.993106</td>\n",
       "      <td>0.784929</td>\n",
       "      <td>2.006018</td>\n",
       "      <td>1.221089</td>\n",
       "      <td>24.907886</td>\n",
       "      <td>27.188698</td>\n",
       "      <td>2.280812</td>\n",
       "      <td>1856.0</td>\n",
       "      <td>27.0</td>\n",
       "      <td>17.0</td>\n",
       "      <td>406.0</td>\n",
       "      <td>0.0</td>\n",
       "      <td>132.0</td>\n",
       "      <td>30.0</td>\n",
       "      <td>101.0</td>\n",
       "      <td>692.0</td>\n",
       "      <td>0.728414</td>\n",
       "    </tr>\n",
       "  </tbody>\n",
       "</table>\n",
       "</div>"
      ],
      "text/plain": [
       "  COUNTY TRACT_NUM  TOT_POP_2010 DATASET        GEOID  TOT_POP_2018  \\\n",
       "0   King    000100        5784.0    acs5  53033000100        7985.0   \n",
       "1   King    000200        7682.0    acs5  53033000200        8498.0   \n",
       "2   King    000300        2548.0    acs5  53033000300        2991.0   \n",
       "\n",
       "   BORN_OTHER_US_STATE_2010  BORN_OTHER_US_STATE_2018  \\\n",
       "0                     362.0                     453.0   \n",
       "1                     315.0                     664.0   \n",
       "2                     100.0                     177.0   \n",
       "\n",
       "   BORN_FOREIGN_75KPLUS_2010  BORN_FOREIGN_75KPLUS_2018  TWENTY_PCTILE_2010  \\\n",
       "0                      211.0                      238.0             17207.0   \n",
       "1                       71.0                      317.0             20684.0   \n",
       "2                       20.0                       60.0             29271.0   \n",
       "\n",
       "   TWENTY_PCTILE_2018  EIGHTY_PCTILE_2010  EIGHTY_PCTILE_2018  \\\n",
       "0             18832.0             99318.0            106103.0   \n",
       "1             37303.0            100531.0            125836.0   \n",
       "2             41357.0            117517.0            152111.0   \n",
       "\n",
       "   BORN_OTHER_US_STATE_PCT_2010  BORN_OTHER_US_STATE_PCT_2018  \\\n",
       "0                      6.258645                      5.673137   \n",
       "1                      4.100495                      7.813603   \n",
       "2                      3.924647                      5.917753   \n",
       "\n",
       "   BORN_OTHER_US_STATE_PCT_CHANGE  BORN_FOREIGN_75KPLUS_PCT_2010  \\\n",
       "0                       -0.585507                       3.647994   \n",
       "1                        3.713109                       0.924238   \n",
       "2                        1.993106                       0.784929   \n",
       "\n",
       "   BORN_FOREIGN_75KPLUS_PCT_2018  BORN_FOREIGN_75KPLUS_PCT_CHANGE  \\\n",
       "0                       2.980589                        -0.667406   \n",
       "1                       3.730289                         2.806051   \n",
       "2                       2.006018                         1.221089   \n",
       "\n",
       "   INCOME_GAP_2010  INCOME_GAP_2018  INCOME_GAP_CHANGE  \\\n",
       "0        17.325158        17.748791           0.423634   \n",
       "1        20.574748        29.644140           9.069392   \n",
       "2        24.907886        27.188698           2.280812   \n",
       "\n",
       "   pop_white_nonhisp_only  pop_black_only  pop_native_only  pop_asian_only  \\\n",
       "0                  3330.0           436.0             83.0           710.0   \n",
       "1                  5383.0           181.0             32.0          1017.0   \n",
       "2                  1856.0            27.0             17.0           406.0   \n",
       "\n",
       "   pop_polynesian_only  pop_hispanic  pop_other_only  pop_multiracial  \\\n",
       "0                 11.0         988.0           412.0            280.0   \n",
       "1                139.0         594.0           138.0            246.0   \n",
       "2                  0.0         132.0            30.0            101.0   \n",
       "\n",
       "   minority_pop  minority_pop_pct  \n",
       "0        2454.0          0.575726  \n",
       "1        2299.0          0.700729  \n",
       "2         692.0          0.728414  "
      ]
     },
     "execution_count": 31,
     "metadata": {},
     "output_type": "execute_result"
    }
   ],
   "source": [
    "df.head(3)\n"
   ]
  },
  {
   "cell_type": "code",
   "execution_count": 32,
   "metadata": {},
   "outputs": [
    {
     "data": {
      "text/html": [
       "<div>\n",
       "<style scoped>\n",
       "    .dataframe tbody tr th:only-of-type {\n",
       "        vertical-align: middle;\n",
       "    }\n",
       "\n",
       "    .dataframe tbody tr th {\n",
       "        vertical-align: top;\n",
       "    }\n",
       "\n",
       "    .dataframe thead th {\n",
       "        text-align: right;\n",
       "    }\n",
       "</style>\n",
       "<table border=\"1\" class=\"dataframe\">\n",
       "  <thead>\n",
       "    <tr style=\"text-align: right;\">\n",
       "      <th></th>\n",
       "      <th>Unnamed: 0</th>\n",
       "      <th>TRACTCE_a</th>\n",
       "      <th>TRACTCE_b</th>\n",
       "      <th>distance</th>\n",
       "      <th>TRACT_NUM_x</th>\n",
       "      <th>GEOID_a</th>\n",
       "      <th>TRACT_NUM_y</th>\n",
       "      <th>GEOID_b</th>\n",
       "      <th>GEOID_x</th>\n",
       "      <th>minority_pop_pct_2010_a</th>\n",
       "      <th>GEOID_y</th>\n",
       "      <th>minority_pop_pct_2010_b</th>\n",
       "    </tr>\n",
       "  </thead>\n",
       "  <tbody>\n",
       "    <tr>\n",
       "      <th>0</th>\n",
       "      <td>1</td>\n",
       "      <td>031705</td>\n",
       "      <td>032212</td>\n",
       "      <td>22236.625478</td>\n",
       "      <td>031705</td>\n",
       "      <td>53033031705</td>\n",
       "      <td>032212</td>\n",
       "      <td>53033032212</td>\n",
       "      <td>53033031705</td>\n",
       "      <td>0.850154</td>\n",
       "      <td>53033032212</td>\n",
       "      <td>0.631176</td>\n",
       "    </tr>\n",
       "    <tr>\n",
       "      <th>1</th>\n",
       "      <td>1192</td>\n",
       "      <td>000200</td>\n",
       "      <td>032212</td>\n",
       "      <td>28735.234239</td>\n",
       "      <td>000200</td>\n",
       "      <td>53033000200</td>\n",
       "      <td>032212</td>\n",
       "      <td>53033032212</td>\n",
       "      <td>53033000200</td>\n",
       "      <td>0.700729</td>\n",
       "      <td>53033032212</td>\n",
       "      <td>0.631176</td>\n",
       "    </tr>\n",
       "    <tr>\n",
       "      <th>2</th>\n",
       "      <td>1589</td>\n",
       "      <td>000900</td>\n",
       "      <td>032212</td>\n",
       "      <td>25152.434293</td>\n",
       "      <td>000900</td>\n",
       "      <td>53033000900</td>\n",
       "      <td>032212</td>\n",
       "      <td>53033032212</td>\n",
       "      <td>53033000900</td>\n",
       "      <td>0.812346</td>\n",
       "      <td>53033032212</td>\n",
       "      <td>0.631176</td>\n",
       "    </tr>\n",
       "  </tbody>\n",
       "</table>\n",
       "</div>"
      ],
      "text/plain": [
       "   Unnamed: 0 TRACTCE_a TRACTCE_b      distance TRACT_NUM_x      GEOID_a  \\\n",
       "0           1    031705    032212  22236.625478      031705  53033031705   \n",
       "1        1192    000200    032212  28735.234239      000200  53033000200   \n",
       "2        1589    000900    032212  25152.434293      000900  53033000900   \n",
       "\n",
       "  TRACT_NUM_y      GEOID_b      GEOID_x  minority_pop_pct_2010_a      GEOID_y  \\\n",
       "0      032212  53033032212  53033031705                 0.850154  53033032212   \n",
       "1      032212  53033032212  53033000200                 0.700729  53033032212   \n",
       "2      032212  53033032212  53033000900                 0.812346  53033032212   \n",
       "\n",
       "   minority_pop_pct_2010_b  \n",
       "0                 0.631176  \n",
       "1                 0.631176  \n",
       "2                 0.631176  "
      ]
     },
     "execution_count": 32,
     "metadata": {},
     "output_type": "execute_result"
    }
   ],
   "source": [
    "gdf.head(3)"
   ]
  },
  {
   "cell_type": "code",
   "execution_count": 33,
   "metadata": {},
   "outputs": [
    {
     "data": {
      "text/plain": [
       "(398, 33)"
      ]
     },
     "execution_count": 33,
     "metadata": {},
     "output_type": "execute_result"
    }
   ],
   "source": [
    "df.shape"
   ]
  },
  {
   "cell_type": "code",
   "execution_count": 34,
   "metadata": {},
   "outputs": [
    {
     "data": {
      "text/plain": [
       "(78606, 12)"
      ]
     },
     "execution_count": 34,
     "metadata": {},
     "output_type": "execute_result"
    }
   ],
   "source": [
    "gdf.shape"
   ]
  },
  {
   "cell_type": "code",
   "execution_count": null,
   "metadata": {},
   "outputs": [],
   "source": []
  }
 ],
 "metadata": {
  "kernelspec": {
   "display_name": "Python 3",
   "language": "python",
   "name": "python3"
  },
  "language_info": {
   "codemirror_mode": {
    "name": "ipython",
    "version": 3
   },
   "file_extension": ".py",
   "mimetype": "text/x-python",
   "name": "python",
   "nbconvert_exporter": "python",
   "pygments_lexer": "ipython3",
   "version": "3.6.10"
  }
 },
 "nbformat": 4,
 "nbformat_minor": 4
}
