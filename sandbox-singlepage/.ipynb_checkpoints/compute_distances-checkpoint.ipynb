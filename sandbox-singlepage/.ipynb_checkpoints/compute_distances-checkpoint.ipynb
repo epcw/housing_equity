{
 "cells": [
  {
   "cell_type": "code",
   "execution_count": 153,
   "metadata": {},
   "outputs": [],
   "source": [
    "import geopandas as gp\n",
    "import pandas as pd\n",
    "import os"
   ]
  },
  {
   "cell_type": "code",
   "execution_count": 154,
   "metadata": {},
   "outputs": [],
   "source": [
    "from geopy.distance import distance"
   ]
  },
  {
   "cell_type": "code",
   "execution_count": 185,
   "metadata": {},
   "outputs": [],
   "source": [
    "# # Derive block group geometries from blocks and save result for reuse later.\n",
    "\n",
    "# # https://www2.census.gov/geo/pdfs/reference/GARM/Ch11GARM.pdf\n",
    "# repo_path = '/Users/rsharp/repos/housing_equity'\n",
    "# shapefile = 'shapefiles/WACensusBlocks2010/tl_2019_53_tabblock10.shp'\n",
    "\n",
    "# gdf = gp.read_file(os.path.join(repo_path, shapefile))\n",
    "# gdf['block_group'] = gdf['BLOCKCE10'].str.get(0)\n",
    "# gdf['block_group_geoid'] = gdf['STATEFP10'].str.cat(gdf['COUNTYFP10'].str.cat(gdf['TRACTCE10'].str.cat(gdf['block_group'])))\n",
    "\n",
    "# # gdf[['block_group_geoid', 'geometry']].groupby('block_group_geoid').count()\n",
    "\n",
    "# bg_shapefile = 'shapefiles/wa_king_census_block_groups.geojson'\n",
    "# bg_gdf = gdf[(gdf['STATEFP10'] == state) & (gdf['COUNTYFP10'] == county)] \\\n",
    "#             [['block_group_geoid', 'geometry']].dissolve(by='block_group_geoid')\n",
    "# bg_gdf.to_file(os.path.join(repo_path, bg_shapefile), driver='GeoJSON')"
   ]
  },
  {
   "cell_type": "code",
   "execution_count": 186,
   "metadata": {},
   "outputs": [],
   "source": [
    "repo_path = '/Users/rsharp/repos/housing_equity'\n",
    "shapefile = 'shapefiles/wa_king_census_block_groups.geojson'\n",
    "\n",
    "bg_gdf = gp.read_file(os.path.join(repo_path, shapefile))"
   ]
  },
  {
   "cell_type": "code",
   "execution_count": 187,
   "metadata": {},
   "outputs": [],
   "source": [
    "# State and County codes: https://www.census.gov/prod/techdoc/cbp/cbp95/st-cnty.pdf\n",
    "state = '53'\n",
    "county = '033'\n",
    "\n",
    "king_gdf = bg_gdf\n",
    "\n",
    "king_gdf['centroid'] = king_gdf['geometry'].centroid"
   ]
  },
  {
   "cell_type": "code",
   "execution_count": 207,
   "metadata": {},
   "outputs": [
    {
     "data": {
      "text/plain": [
       "(1422, 1010331.0, 8.09073873873874)"
      ]
     },
     "execution_count": 207,
     "metadata": {},
     "output_type": "execute_result"
    }
   ],
   "source": [
    "n = king_gdf.shape[0]\n",
    "r = (n*n - n)/2.0\n",
    "r0 = (1000*1000 - 1000)/2.0\n",
    "n, r, r/r0*4"
   ]
  },
  {
   "cell_type": "code",
   "execution_count": 208,
   "metadata": {},
   "outputs": [
    {
     "name": "stdout",
     "output_type": "stream",
     "text": [
      "CPU times: user 6min 31s, sys: 33.3 s, total: 7min 5s\n",
      "Wall time: 7min 11s\n"
     ]
    },
    {
     "data": {
      "text/html": [
       "<div>\n",
       "<style scoped>\n",
       "    .dataframe tbody tr th:only-of-type {\n",
       "        vertical-align: middle;\n",
       "    }\n",
       "\n",
       "    .dataframe tbody tr th {\n",
       "        vertical-align: top;\n",
       "    }\n",
       "\n",
       "    .dataframe thead th {\n",
       "        text-align: right;\n",
       "    }\n",
       "</style>\n",
       "<table border=\"1\" class=\"dataframe\">\n",
       "  <thead>\n",
       "    <tr style=\"text-align: right;\">\n",
       "      <th></th>\n",
       "      <th>block_group_geoid_a</th>\n",
       "      <th>block_group_geoid_b</th>\n",
       "      <th>distance</th>\n",
       "    </tr>\n",
       "  </thead>\n",
       "  <tbody>\n",
       "    <tr>\n",
       "      <th>1422</th>\n",
       "      <td>530330001002</td>\n",
       "      <td>530330001001</td>\n",
       "      <td>0.9394085593676534 km</td>\n",
       "    </tr>\n",
       "    <tr>\n",
       "      <th>2844</th>\n",
       "      <td>530330001003</td>\n",
       "      <td>530330001001</td>\n",
       "      <td>0.7819418715368167 km</td>\n",
       "    </tr>\n",
       "    <tr>\n",
       "      <th>2845</th>\n",
       "      <td>530330001003</td>\n",
       "      <td>530330001002</td>\n",
       "      <td>0.7578799583027931 km</td>\n",
       "    </tr>\n",
       "    <tr>\n",
       "      <th>4266</th>\n",
       "      <td>530330001004</td>\n",
       "      <td>530330001001</td>\n",
       "      <td>1.1971442067327784 km</td>\n",
       "    </tr>\n",
       "    <tr>\n",
       "      <th>4267</th>\n",
       "      <td>530330001004</td>\n",
       "      <td>530330001002</td>\n",
       "      <td>0.32703321514162215 km</td>\n",
       "    </tr>\n",
       "    <tr>\n",
       "      <th>...</th>\n",
       "      <td>...</td>\n",
       "      <td>...</td>\n",
       "      <td>...</td>\n",
       "    </tr>\n",
       "    <tr>\n",
       "      <th>2022078</th>\n",
       "      <td>530339901000</td>\n",
       "      <td>530330327043</td>\n",
       "      <td>47.80899920262759 km</td>\n",
       "    </tr>\n",
       "    <tr>\n",
       "      <th>2022079</th>\n",
       "      <td>530339901000</td>\n",
       "      <td>530330327044</td>\n",
       "      <td>48.045810728719886 km</td>\n",
       "    </tr>\n",
       "    <tr>\n",
       "      <th>2022080</th>\n",
       "      <td>530339901000</td>\n",
       "      <td>530330328001</td>\n",
       "      <td>49.872263328947724 km</td>\n",
       "    </tr>\n",
       "    <tr>\n",
       "      <th>2022081</th>\n",
       "      <td>530339901000</td>\n",
       "      <td>530330328002</td>\n",
       "      <td>57.611324793142856 km</td>\n",
       "    </tr>\n",
       "    <tr>\n",
       "      <th>2022082</th>\n",
       "      <td>530339901000</td>\n",
       "      <td>530330328003</td>\n",
       "      <td>78.98940335163532 km</td>\n",
       "    </tr>\n",
       "  </tbody>\n",
       "</table>\n",
       "<p>1010331 rows × 3 columns</p>\n",
       "</div>"
      ],
      "text/plain": [
       "        block_group_geoid_a block_group_geoid_b                distance\n",
       "1422           530330001002        530330001001   0.9394085593676534 km\n",
       "2844           530330001003        530330001001   0.7819418715368167 km\n",
       "2845           530330001003        530330001002   0.7578799583027931 km\n",
       "4266           530330001004        530330001001   1.1971442067327784 km\n",
       "4267           530330001004        530330001002  0.32703321514162215 km\n",
       "...                     ...                 ...                     ...\n",
       "2022078        530339901000        530330327043    47.80899920262759 km\n",
       "2022079        530339901000        530330327044   48.045810728719886 km\n",
       "2022080        530339901000        530330328001   49.872263328947724 km\n",
       "2022081        530339901000        530330328002   57.611324793142856 km\n",
       "2022082        530339901000        530330328003    78.98940335163532 km\n",
       "\n",
       "[1010331 rows x 3 columns]"
      ]
     },
     "execution_count": 208,
     "metadata": {},
     "output_type": "execute_result"
    }
   ],
   "source": [
    "%%time\n",
    "\n",
    "# Note that essentially all of the time is consumed by the distance calculation. This means that it should scale\n",
    "# linearly with the number of pairs of centroids. It took about 4 minutes to compute for 1,000 block groups, which\n",
    "# works out to (1000*1000 - 1000)/2 - 1000 = 499,500 pairs. The full King county dataset should take about 8 minutes.\n",
    "\n",
    "s = king_gdf[['block_group_geoid', 'centroid']].copy()\n",
    "s['temp_key'] = 1\n",
    "xs = s.merge(s, on='temp_key', suffixes=('_a', '_b'))\n",
    "xs = xs[xs['block_group_geoid_a'] > xs['block_group_geoid_b']]\n",
    "xs['distance'] = xs.apply(lambda row: distance((row.centroid_a.y, row.centroid_a.x), (row.centroid_b.y, row.centroid_b.x)), axis=1)\n",
    "xs[['block_group_geoid_a', 'block_group_geoid_b', 'distance']]"
   ]
  },
  {
   "cell_type": "code",
   "execution_count": 213,
   "metadata": {},
   "outputs": [
    {
     "name": "stdout",
     "output_type": "stream",
     "text": [
      "Wrote 1010331 records to /Users/rsharp/repos/housing_equity/shapefiles/wa_king_census_block_groups_distances.csv\n"
     ]
    }
   ],
   "source": [
    "csv_filename = 'shapefiles/wa_king_census_block_groups_distances.csv'\n",
    "\n",
    "full_filename = os.path.join(repo_path, csv_filename)\n",
    "csv_data = xs[['block_group_geoid_a', 'block_group_geoid_b', 'distance']]\n",
    "csv_data.to_csv(full_filename, header=True, index=False)\n",
    "print('Wrote {} records to {}'.format(csv_data.shape[0], full_filename))"
   ]
  },
  {
   "cell_type": "code",
   "execution_count": null,
   "metadata": {},
   "outputs": [],
   "source": []
  }
 ],
 "metadata": {
  "kernelspec": {
   "display_name": "Python 3",
   "language": "python",
   "name": "python3"
  },
  "language_info": {
   "codemirror_mode": {
    "name": "ipython",
    "version": 3
   },
   "file_extension": ".py",
   "mimetype": "text/x-python",
   "name": "python",
   "nbconvert_exporter": "python",
   "pygments_lexer": "ipython3",
   "version": "3.7.7"
  }
 },
 "nbformat": 4,
 "nbformat_minor": 4
}
